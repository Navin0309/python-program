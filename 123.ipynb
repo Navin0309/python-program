{
 "cells": [
  {
   "cell_type": "code",
   "execution_count": 1,
   "metadata": {},
   "outputs": [
    {
     "name": "stdout",
     "output_type": "stream",
     "text": [
      "hello\n"
     ]
    }
   ],
   "source": [
    "print('hello')"
   ]
  },
  {
   "cell_type": "code",
   "execution_count": null,
   "metadata": {},
   "outputs": [],
   "source": [
    "import math\n",
    "\n",
    "numbers = [-4,-1,0,3,10]\n",
    "n = []\n",
    "\n",
    "for number in numbers:\n",
    "    square = math.pow(number, 2)\n",
    "    square = int(square)  \n",
    "    n.append(square)\n",
    "\n",
    "print(sorted(n))  "
   ]
  },
  {
   "cell_type": "code",
   "execution_count": null,
   "metadata": {},
   "outputs": [],
   "source": [
    "# a = [1, 2, 3, 4, 5, 6, 7]\n",
    "a = [-1, -100, 3, 99]\n",
    "m = a[::-1]\n",
    "b = int(input())\n",
    "q = len(a) - b\n",
    "print(list(reversed(m[:b])) + a[:q])\n"
   ]
  },
  {
   "cell_type": "code",
   "execution_count": null,
   "metadata": {},
   "outputs": [],
   "source": [
    "\n",
    "from collections import Counter\n",
    "numbers =  [3,2,3,4,4,4]\n",
    "counter = Counter(numbers)\n",
    "most_common_number = counter.most_common(1)[0][0]\n",
    "print(counter)\n",
    "print(most_common_number)"
   ]
  },
  {
   "cell_type": "markdown",
   "metadata": {},
   "source": []
  },
  {
   "cell_type": "code",
   "execution_count": 1,
   "metadata": {},
   "outputs": [
    {
     "name": "stdout",
     "output_type": "stream",
     "text": [
      "58\n"
     ]
    }
   ],
   "source": [
    "s = \"LVIII\"\n",
    "ans = 0\n",
    "roman = {'I': 1, 'V': 5, 'X': 10, 'L': 50,\n",
    "         'C': 100, 'D': 500, 'M': 1000}\n",
    "\n",
    "for a, b in zip(s, s[1:]):\n",
    "    if roman[a] < roman[b]:\n",
    "        ans -= roman[a]\n",
    "    else:\n",
    "        ans += roman[a]\n",
    "\n",
    "result = ans + roman[s[-1]]\n",
    "\n",
    "print(result) "
   ]
  },
  {
   "cell_type": "code",
   "execution_count": 3,
   "metadata": {},
   "outputs": [
    {
     "name": "stdout",
     "output_type": "stream",
     "text": [
      "3 5 7 11 13 17 "
     ]
    }
   ],
   "source": [
    "a = [2, 3, 4, 5, 7, 11, 13, 17]\n",
    "for i in range(0, len(a)):\n",
    "    if a[i] % 2 != 0:\n",
    "        print(a[i],end=' ')"
   ]
  },
  {
   "cell_type": "code",
   "execution_count": 4,
   "metadata": {},
   "outputs": [
    {
     "name": "stdout",
     "output_type": "stream",
     "text": [
      "3\n",
      "[1, 2]\n"
     ]
    }
   ],
   "source": [
    "a = list(map(int, input().split()))\n",
    "b = sorted(list(map(int, input().split())))\n",
    "n = []\n",
    "count = 0\n",
    "for i in range(0, len(b), a[0]):\n",
    "    n.append(b[i])\n",
    "    count+=1\n",
    "    if count == a[1]:\n",
    "        break\n",
    "print(sum(n))\n"
   ]
  },
  {
   "cell_type": "code",
   "execution_count": 8,
   "metadata": {},
   "outputs": [
    {
     "name": "stdout",
     "output_type": "stream",
     "text": [
      "3\n"
     ]
    }
   ],
   "source": [
    "a =[5,2]\n",
    "b = [1,2,3,4]\n",
    "print(sum(b[:a[1]]))"
   ]
  },
  {
   "cell_type": "code",
   "execution_count": null,
   "metadata": {},
   "outputs": [],
   "source": [
    "l1 = list(map(int,input().split(',')))\n",
    "l2 = list(map(int,input().split(',')))\n",
    "a = ''.join(map(str, l1))\n",
    "b = ''.join(map(str, l2))\n",
    "m = int(a) + int(b)\n",
    "digits = [int(digit) for digit in str(m)]  \n",
    "print(list(reversed(digits)))"
   ]
  },
  {
   "cell_type": "code",
   "execution_count": 1,
   "metadata": {},
   "outputs": [
    {
     "name": "stdout",
     "output_type": "stream",
     "text": [
      "True\n"
     ]
    }
   ],
   "source": [
    "a = 121\n",
    "\n",
    "if a<=0:\n",
    "    print('False')\n",
    "    \n",
    "elif a == int(str(a)[::-1]):\n",
    "    print('True')"
   ]
  },
  {
   "cell_type": "code",
   "execution_count": 2,
   "metadata": {},
   "outputs": [
    {
     "name": "stdout",
     "output_type": "stream",
     "text": [
      "fl\n"
     ]
    }
   ],
   "source": [
    "strs = [\"flower\",\"flow\",\"flight\"]\n",
    "output=''\n",
    "for i in zip(*strs):\n",
    "    if len(set(i)) == 1:\n",
    "        output+=i[0]\n",
    "    else:\n",
    "        break\n",
    "print(output)"
   ]
  }
 ],
 "metadata": {
  "kernelspec": {
   "display_name": "Python 3",
   "language": "python",
   "name": "python3"
  },
  "language_info": {
   "codemirror_mode": {
    "name": "ipython",
    "version": 3
   },
   "file_extension": ".py",
   "mimetype": "text/x-python",
   "name": "python",
   "nbconvert_exporter": "python",
   "pygments_lexer": "ipython3",
   "version": "3.12.2"
  }
 },
 "nbformat": 4,
 "nbformat_minor": 2
}
